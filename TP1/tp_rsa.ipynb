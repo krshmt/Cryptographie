{
 "cells": [
  {
   "cell_type": "markdown",
   "id": "aeec19a2",
   "metadata": {},
   "source": [
    "# RSA\n",
    "## Quelques primitives arithmétiques"
   ]
  },
  {
   "cell_type": "markdown",
   "id": "68ab6a37",
   "metadata": {},
   "source": [
    "### L'algorithme d'Euclide étendu\n",
    "\n",
    "L'**algorithme d'Euclide étendu** est une version de l'algorithme d'Euclide; à partir de deux entiers a et b, l'algorithme calcule leur plus grand commun diviseur (P.G.C.D.) ainsi que deux entiers (les coefficients de Bezout) $u$ et $v$ tels que $a*u + b*v = pgcd(a,b)$. L'algorithme d'Euclide permet d'obtenir de tels entiers parce qu'à chaque étape de l'algorithme, on n'a que des sommes de multiples de a et b.\n"
   ]
  },
  {
   "cell_type": "markdown",
   "id": "db695244",
   "metadata": {},
   "source": [
    "\n",
    "#### Version itérative\n",
    "\n",
    "1. Déroulez à la main l’algorithme d’Euclide étendu sur les entiers $120$ et $23$.\n",
    "2. En vous appuyant de votre cours, concevez puis implémentez une fonction `euclide_etendu(a,b)` qui utilise cette méthode itérative. Votre fonction renverra le pgcd de a et de b ainsi que les coefficients de Bezout associés."
   ]
  },
  {
   "cell_type": "code",
   "execution_count": 26,
   "id": "90428e2e",
   "metadata": {},
   "outputs": [
    {
     "name": "stdout",
     "output_type": "stream",
     "text": [
      "PGCD(120, 23) = 1\n",
      "Coefficients de Bézout: u = -9 , v = 47\n"
     ]
    }
   ],
   "source": [
    "def euclide_etendu(nombre_a,nombre_b):\n",
    "    \"\"\"Renvoie un triplet (d,u,v) avec d=pgcd(a,b) et u et v les coefficients de Bezout\"\"\"\n",
    "    bezout_iteration_precedente_u, bezout_iteration_precedente_v, bezout_iteration_courante_u, bezout_iteration_courante_v = 1, 0, 0, 1\n",
    "    \n",
    "    while nombre_b != 0:\n",
    "        quotient = nombre_a // nombre_b\n",
    "        bezout_iteration_precedente_u, bezout_iteration_courante_u = bezout_iteration_courante_u, bezout_iteration_precedente_u - quotient * bezout_iteration_courante_u\n",
    "        bezout_iteration_precedente_v, bezout_iteration_courante_v = bezout_iteration_courante_v, bezout_iteration_precedente_v - quotient * bezout_iteration_courante_v\n",
    "        nombre_a, nombre_b = nombre_b, nombre_a % nombre_b\n",
    "    return nombre_a, bezout_iteration_precedente_u, bezout_iteration_precedente_v\n",
    "\n",
    "a, u, v = euclide_etendu(120, 23)\n",
    "\n",
    "print(\"PGCD(120, 23) =\", a)\n",
    "print(\"Coefficients de Bézout: u =\",u, \", v =\", v)"
   ]
  },
  {
   "cell_type": "markdown",
   "id": "1a8a4e12",
   "metadata": {},
   "source": [
    "#### Version récursive\n",
    "\n",
    "Notons $u$ et $v$ les coefficients de Bezout pour les nombres $a$ et $b$. Notons maintenant $u'$ et $v'$ les coefficients de Bezout pour les nombres $b$ et $a \\mod b$. Alors on a la relation de récurrence suivante: $u = v'$, $v = u' - (a/b)\\cdot v'$. (Ici, $a/b$ correspond à la division entière de $a$ par $b$.\n",
    "\n",
    "1. Déduisez de cette propriété une version récursive de l’algorithme en faisant apparaître chaque étape du calcul via des affichages."
   ]
  },
  {
   "cell_type": "code",
   "execution_count": 43,
   "id": "8ec8345f",
   "metadata": {},
   "outputs": [
    {
     "name": "stdout",
     "output_type": "stream",
     "text": [
      "PGCD(120, 23) = 1\n",
      "Coefficients de Bézout: u = -9 , v = 47\n"
     ]
    }
   ],
   "source": [
    "def euclide_etendu_rec(a,b):\n",
    "    \"\"\"Renvoie un triplet (d,u,v) avec d=pgcd(a,b) et u et v les coefficients de Bezout\"\"\"\n",
    "    if b == 0:\n",
    "        return a, 1, 0\n",
    "    else:\n",
    "        d, u, v = euclide_etendu_rec(b, a % b)\n",
    "        return d, v, u - (a // b) * v\n",
    "\n",
    "a, u, v = euclide_etendu_rec(120, 23)\n",
    "\n",
    "\n",
    "print(\"PGCD(120, 23) =\", a)\n",
    "print(\"Coefficients de Bézout: u =\", u, \", v =\", v)"
   ]
  },
  {
   "cell_type": "markdown",
   "id": "0e8f2b8c",
   "metadata": {},
   "source": [
    "### Forgeons nos premiers outils\n",
    "\n",
    "Nous allons maintenant implémenter différents outils de calcul qui nous seront notamment utile pour la partie sur le protocole RSA.\n",
    "\n",
    "Proposez une implémentation en Python des fonctions suivantes:\n",
    "\n",
    "* `est_premier(n)`: renvoie `True` si `n` est premier, `False` sinon. On rappelle qu'un nombre entier est premier si et seulement s'il n'est divisible que par 1 et lui-même. \n",
    "* `pgcd(a,b)`: renvoie un entier correspondant au plus grand diviseur commun de `a` et `b`.\n",
    "* `mod_inverse(a,b)`: renvoie l'inverse modulaire de `a` et de `b` (indice: pensez au coefficient de Bezout!)"
   ]
  },
  {
   "cell_type": "code",
   "execution_count": null,
   "id": "9095a486",
   "metadata": {},
   "outputs": [
    {
     "name": "stdout",
     "output_type": "stream",
     "text": [
      "True\n"
     ]
    }
   ],
   "source": [
    "import math\n",
    "\n",
    "def est_premier(n):\n",
    "    if n < 2:\n",
    "        return False\n",
    "    for i in range(2, int(math.sqrt(n))+1):\n",
    "        if n%i==0:\n",
    "            return False\n",
    "    return True\n",
    "\n",
    "def pgcd(a, b):\n",
    "    while r1 > 0:\n",
    "        r = r0 % r1\n",
    "        r0 = r1\n",
    "        r1 = r\n",
    "    return r0\n",
    "\n",
    "def mod_inverse(a,b):\n",
    "    pass"
   ]
  },
  {
   "cell_type": "markdown",
   "id": "67b44df8",
   "metadata": {},
   "source": [
    "### Un outil plus technique: l'exponentiation modulaire\n",
    "\n",
    "Vous devez proposer une fonction Python permettant de calculer l'**exponentiation modulaire** étant donné une base $b$, un exposant $e$ et un entier positif $n$ (aussi appelé *modulus*). Ce calcul est notamment utilisé dans le protocole [RSA](https://en.wikipedia.org/wiki/RSA_(cryptosystem)), que nous étudierons plus en détails par la suite.\n",
    "\n",
    "1. Commencons par implémenter la méthode la plus simple, qui consiste à effectuer le calcul $b^e$ puis d'appliquer le modulo. Ecrivez une fonction `exp_mod_naive(b,e,n)` qui se contente de faire ce calcul (vous pouvez vous servir des opérateurs Python `**` et `%`).\n",
    "2. Executez le programme précédent avec les valeurs $b=4\\times 10^36$, $e=15$ et $n=301$. Un peu long n'est-ce pas..."
   ]
  },
  {
   "cell_type": "code",
   "execution_count": null,
   "id": "002af00f",
   "metadata": {},
   "outputs": [],
   "source": [
    "def exp_mod_naive(b,e,n):\n",
    "    pass"
   ]
  },
  {
   "cell_type": "markdown",
   "id": "be0743d2",
   "metadata": {},
   "source": [
    "Tentons maintenant d'optimiser notre algorithme. Pour cela, nous nous servirons de la propriété suivante:\n",
    "\n",
    "$$(x \\cdot y) \\mod n = [(x \\mod n) \\cdot (y \\mod n)] \\mod n$$\n",
    "\n",
    "1. Si on pose $x=b$ et $y=b^{p-1}$, qu'en déduisez-vous?\n",
    "2. Ecrivez une fonction `exp_mod_opt(b,e,n)` qui utilise cette propriété.\n",
    "3. Testez votre fonction avec les valeurs de $b$, $e$ et $n$ fournis précédemment. Constatez-vous une amélioration?"
   ]
  },
  {
   "cell_type": "code",
   "execution_count": null,
   "id": "69c9f6e6",
   "metadata": {},
   "outputs": [],
   "source": [
    "def exp_mod_opt(b,e,n):\n",
    "    pass"
   ]
  },
  {
   "cell_type": "markdown",
   "id": "08eca1d9",
   "metadata": {},
   "source": [
    "## Le protocole RSA\n",
    "\n",
    "### Les grandes lignes\n",
    "\n",
    "Voici les grandes étapes du chiffrement RSA. Cependant, certaines parties sont manquantes! Complétez les trous.\n",
    "\n",
    "* Bob choisit $p$ et $q$ deux grands nombres ... (plus de 100 chiffres)\n",
    "* Bob calcule $n=...$. \n",
    "* Le nombre n, **le modulo RSA**, doit posséder plusieurs centaines de chiffres. Il est public tandis que $p$ et $q$ sont conservés secrets !\n",
    "* Bob calcule $\\varphi(n) = (...-1)(...-1)$, qui doit rester secret. Retrouver $n$ sans connaître $p$ et $q$ est aussi difficile que de factoriser $n$.\n",
    "* Bob choisit $e$ en s'assurant que $PGDC(e, n) = 1$. Il s'agit de **l'exposant d'encryptage RSA**.\n",
    "* Bob calcule $d$, inverse de $e$ modulo $n$ et garde secret cette valeur. Il s'agit de **la clé ... RSA** qui va permettre de décoder par la suite les messages transmis par Alice.\n",
    "* Bob transmet (ou publie dans un annuaire) le couple $(n,...)$. Ce couple s'appelle **la clé ... RSA.**\n",
    "* Alice convertit son message \"texte\" en un nombre $M$ compris entre 0 et $n$.\n",
    "* Alice calcule $C\\equiv M^{...}\\mod n$ et envoie ce message crypté $C$.\n",
    "* Pour le décoder, Bob calcule $M=C^{...} \\mod n$ à l'aide de sa clé privée $d$. Ceci lui permet de retrouver le message d'origine car:\n",
    "$$C^{d} \\equiv (M^{e})^d\\equiv M^{e.d} \\equiv  M \\mod n$$\n",
    "* Bob n'a plus qu'à reconvertir ce nombre en un message clair.\n",
    "\n",
    "\n",
    "> Pour déchiffrer le message, on utilise le *petit théorème de Fermat* :\n",
    ">> Soient $p$ et $q$ deux nombres premiers et $n = p.q$. Alors pour tout $x < n$ premier avec $n$, $x^{(p-1).(q-1)} \\equiv 1\\mod n$.\n",
    "\n",
    "> La sécurité de RSA repose sur la difficulté de factoriser le modulo RSA $n$ de la clé publique. "
   ]
  },
  {
   "cell_type": "markdown",
   "id": "28655945",
   "metadata": {},
   "source": [
    "### Génération de nombres premiers\n",
    "\n",
    "1. Ecrivez une fonction `genere_premier(maxi)` qui génère un nombre premier aléatoire plus petit que `maxi`. Une solution simple consiste à tirer aléatoirement un nombre entre 2 et `maxi` puis de tester si le nombre obtenu est premier ou non. S'il ne l'est pas, alors on réitère le processus jusqu'à trouver un nombre premier.\n",
    "1. Ecrivez maintenant une fonction `genere_grand_premier(k)` qui va générer un nombre premier de taille $k$ bits de manière aléatoire. Pour cela, il suffit de remarquer qu'un nombre entier de taille $k$ est compris entre $2^{k-1}$ et $2^{k}-1$. "
   ]
  },
  {
   "cell_type": "code",
   "execution_count": null,
   "id": "6dc7d596",
   "metadata": {},
   "outputs": [],
   "source": [
    "# Ecrivez votre code ici"
   ]
  },
  {
   "cell_type": "markdown",
   "id": "fccf18ff",
   "metadata": {},
   "source": [
    "### Génération de clés RSA\n",
    "\n",
    "1. Ecrire une fonction `genere_cle()` qui renvoie le triplet `(n,e,d)` d'un chiffrement RSA valide. \n",
    "1. Quelle condition doit vérifier le message par rapport à $n$ ? Que faire sinon ? (on ne demande pas de réimplémenter toutes les fonctions ici)."
   ]
  },
  {
   "cell_type": "code",
   "execution_count": null,
   "id": "b1a93aeb",
   "metadata": {},
   "outputs": [],
   "source": [
    "# Ecrivez votre code ici"
   ]
  },
  {
   "cell_type": "markdown",
   "id": "2539b4d3",
   "metadata": {},
   "source": [
    "### Pourquoi RAS est sûr? \n",
    "\n",
    "Parce qu’il est basé sur une dissymétrie fondamentale entre le temps pris pour créer des clés et le temps pris pour les casser... \n",
    "\n",
    "#### Voyons cela\n",
    "\n",
    "1. Créez une fonction `factorisation(n)` qui factorise l’entier $n$ en deux facteurs premiers $p$ et $q$. On se contentera d'une méthode naïve qui consiste à tester tous les couples d'entiers qui sont premiers."
   ]
  },
  {
   "cell_type": "code",
   "execution_count": null,
   "id": "e406127e",
   "metadata": {},
   "outputs": [],
   "source": [
    "# Ecrivez votre code ici"
   ]
  },
  {
   "cell_type": "markdown",
   "id": "eb1e90ca",
   "metadata": {},
   "source": [
    "Nous allons pour la suite effectuer des mesures du temps d'exécution de certaines fonctions. \n",
    "\n",
    "1. Mesurez le temps d'exécution de la fonction `generer_grand_premier(k)` pour les valeurs $k=8$ puis $k=19$. On notera `p1` et `p2` les deux nombres ainsi générés.\n",
    "1. Mesurez le temps d'exécution de la fonction `factorisation(n)` pour les valeurs `n=p1` puis `n=p2`\n",
    "1. Quel ratio obtenez-vous?"
   ]
  },
  {
   "cell_type": "code",
   "execution_count": null,
   "id": "a643172d",
   "metadata": {},
   "outputs": [],
   "source": [
    "# Ecrivez votre code ici"
   ]
  },
  {
   "cell_type": "markdown",
   "id": "fd4127a3",
   "metadata": {},
   "source": [
    "Ecrivez une fonction qui teste l’évolution de ce ratio en fonction du doublement de la taille de la clé à chaque étape de test."
   ]
  },
  {
   "cell_type": "code",
   "execution_count": null,
   "id": "a9ea41bd",
   "metadata": {},
   "outputs": [],
   "source": [
    "# Ecrivez votre code ici"
   ]
  },
  {
   "cell_type": "markdown",
   "id": "13190bcd",
   "metadata": {},
   "source": [
    "Tracez cette courbe en vous inspirant du code ci-dessous"
   ]
  },
  {
   "cell_type": "code",
   "execution_count": null,
   "id": "500048af",
   "metadata": {},
   "outputs": [
    {
     "data": {
      "image/png": "[encoded data removed]",
      "text/plain": [
       "<Figure size 432x288 with 1 Axes>"
      ]
     },
     "metadata": {
      "needs_background": "light"
     },
     "output_type": "display_data"
    }
   ],
   "source": [
    "import matplotlib.pyplot as plt\n",
    "size=[3.0, 4.0, 5.0, 6.0, 7.0, 8.0, 9.0, 10.0, 11.0, 12.0]\n",
    "averagetime=[0.0999,1.3,3.9,39,155,689,2021,5187,16213,86038]\n",
    "plt.plot(size, averagetime)\n",
    "plt.show()  "
   ]
  },
  {
   "cell_type": "markdown",
   "id": "14e69519",
   "metadata": {},
   "source": [
    "### Une version très naïve de l’usage de RSA ...\n",
    "\n",
    "Imaginons qu'un message M ait été chiffré avec RSA avec la clé publique `(n=95,e=23)`. Plus précisément, chaque lettre a été chiffré séparement avec cette clé. Voici le message crypté ainsi obtenu:\n",
    "\n",
    "[8,29,52,1,74,0,20,37,0,40,12,52]\n",
    "\n",
    "1. Seriez-vous capable de retrouver le message $M$ initial?\n",
    "2. Pourquoi ne faut-il jamais utiliser RSA comme cela?"
   ]
  },
  {
   "cell_type": "markdown",
   "id": "b6067592",
   "metadata": {},
   "source": [
    "### Cryptage RSA de deux messages avec le même n"
   ]
  },
  {
   "cell_type": "markdown",
   "id": "e838ae70",
   "metadata": {},
   "source": [
    "Bob et Cliff ont pour clef publique RSA respectivement $(n, e_1)$ et $(n, e_2)$ avec en plus $e_1$ et $e_2$ premiers entre eux.\n",
    "Alice envoie le même message $M$ en le cryptant par les clés publiques RSA de Bob et Cliff en $C_1$ et $C_2$.\n",
    "Expliquer comment Eve, qui intercepte les deux messages cryptés, et qui connait les clés publiques de Bob et Cliff, peut retrouver le message en clair $M$."
   ]
  },
  {
   "cell_type": "markdown",
   "id": "e39cf15a",
   "metadata": {},
   "source": [
    "#### Indication  \n",
    "\n",
    "Pensez au théorème de Bezout !"
   ]
  },
  {
   "cell_type": "markdown",
   "id": "4ab46fef",
   "metadata": {},
   "source": [
    "### Essayer avec votre voisin \n",
    "\n",
    "Mettez vous par deux (ou trois) et un ou deux étudiants prennent le rôle de Bob et Cliff et codent deux messages RSA avec le même n et vous communiquent les messages codés et n.\n",
    "Vous devez décoder le message transmis.\n"
   ]
  },
  {
   "cell_type": "markdown",
   "id": "c845cbf5",
   "metadata": {},
   "source": [
    "### Si on prend $𝑒_1=7$ et $𝑒_2=14$\n",
    "\n",
    "Toujours avec $n = 101 \\times 103$\n",
    "\n",
    "Pourquoi est-ce que ça ne marche plus ?"
   ]
  },
  {
   "cell_type": "markdown",
   "id": "dada90d5",
   "metadata": {},
   "source": [
    "## Attaque de RSA pour e petit\n",
    "\n",
    "Pourquoi RSA peut-il être fragile pour $e$ \"petit\" ? Par exemple inférieur à 10 ou de l'ordre de quelques dizaines ? Faites des recherches et coder des éléments d'une attaque possible dans ce cas "
   ]
  },
  {
   "cell_type": "markdown",
   "id": "6900ce60",
   "metadata": {},
   "source": [
    "## Tests de primalité\n",
    "On voit que tester la primalité est primordial pour RSA\n",
    "Reprenons un peu cette étude"
   ]
  },
  {
   "cell_type": "code",
   "execution_count": null,
   "id": "1bc7ff24",
   "metadata": {},
   "outputs": [
    {
     "data": {
      "text/plain": [
       "False"
      ]
     },
     "execution_count": 107,
     "metadata": {},
     "output_type": "execute_result"
    }
   ],
   "source": [
    "gie = 15508808027837692984239215007513078784710202152067111027931119901138753945534599997576053046717358560915975553897974089381733440436747047809863900699066790967289330811405044935969514508676239942493440750589270015739962374529363251827\n",
    "est_premier(gie)\n",
    "\n"
   ]
  },
  {
   "cell_type": "code",
   "execution_count": 108,
   "id": "a9f258f2",
   "metadata": {},
   "outputs": [
    {
     "ename": "KeyboardInterrupt",
     "evalue": "",
     "output_type": "error",
     "traceback": [
      "\u001b[0;31m---------------------------------------------------------------------------\u001b[0m",
      "\u001b[0;31mKeyboardInterrupt\u001b[0m                         Traceback (most recent call last)",
      "\u001b[0;32m/tmp/ipykernel_13484/3134102796.py\u001b[0m in \u001b[0;36m<module>\u001b[0;34m\u001b[0m\n\u001b[1;32m      1\u001b[0m \u001b[0;31m# trop loooooonng\u001b[0m\u001b[0;34m\u001b[0m\u001b[0;34m\u001b[0m\u001b[0m\n\u001b[0;32m----> 2\u001b[0;31m \u001b[0mest_premier\u001b[0m\u001b[0;34m(\u001b[0m\u001b[0;36m1051364518442342302270880192779903262713\u001b[0m\u001b[0;34m)\u001b[0m\u001b[0;34m\u001b[0m\u001b[0;34m\u001b[0m\u001b[0m\n\u001b[0m",
      "\u001b[0;32m/tmp/ipykernel_13484/2360039872.py\u001b[0m in \u001b[0;36mest_premier\u001b[0;34m(n)\u001b[0m\n\u001b[1;32m      4\u001b[0m \u001b[0;34m\u001b[0m\u001b[0m\n\u001b[1;32m      5\u001b[0m     \u001b[0;32mfor\u001b[0m \u001b[0mi\u001b[0m \u001b[0;32min\u001b[0m \u001b[0mrange\u001b[0m\u001b[0;34m(\u001b[0m\u001b[0;36m2\u001b[0m\u001b[0;34m,\u001b[0m \u001b[0mint\u001b[0m\u001b[0;34m(\u001b[0m\u001b[0mn\u001b[0m\u001b[0;34m**\u001b[0m\u001b[0;36m0.5\u001b[0m\u001b[0;34m)\u001b[0m \u001b[0;34m+\u001b[0m \u001b[0;36m1\u001b[0m\u001b[0;34m)\u001b[0m\u001b[0;34m:\u001b[0m\u001b[0;34m\u001b[0m\u001b[0;34m\u001b[0m\u001b[0m\n\u001b[0;32m----> 6\u001b[0;31m         \u001b[0;32mif\u001b[0m \u001b[0mn\u001b[0m \u001b[0;34m%\u001b[0m \u001b[0mi\u001b[0m \u001b[0;34m==\u001b[0m \u001b[0;36m0\u001b[0m\u001b[0;34m:\u001b[0m\u001b[0;34m\u001b[0m\u001b[0;34m\u001b[0m\u001b[0m\n\u001b[0m\u001b[1;32m      7\u001b[0m             \u001b[0;32mreturn\u001b[0m \u001b[0;32mFalse\u001b[0m\u001b[0;34m\u001b[0m\u001b[0;34m\u001b[0m\u001b[0m\n\u001b[1;32m      8\u001b[0m \u001b[0;34m\u001b[0m\u001b[0m\n",
      "\u001b[0;31mKeyboardInterrupt\u001b[0m: "
     ]
    }
   ],
   "source": [
    "# trop loooooonng\n",
    "est_premier(1051364518442342302270880192779903262713)"
   ]
  },
  {
   "cell_type": "code",
   "execution_count": null,
   "id": "61a91eec",
   "metadata": {},
   "outputs": [
    {
     "data": {
      "text/plain": [
       "6"
      ]
     },
     "execution_count": 90,
     "metadata": {},
     "output_type": "execute_result"
    }
   ],
   "source": [
    "# pow a 3 arguments (modulo sur le dernier)\n",
    "pow(2,4,10)"
   ]
  },
  {
   "cell_type": "markdown",
   "id": "20aadb16",
   "metadata": {},
   "source": [
    "Pour résoudre ce problème, implantez le test de primalité probabiliste de Fermat. Le principe de ce test est de choisir aléatoirement et uniformément un entier $a$ et de tester si $a^{n-1} \\not\\equiv 1 \\mod n$. Si c'est le cas, alors $n$ n'est pas premier. On répète ce test $k$ fois. Si aucune itération ne permet de prouver que $n$ est composite, alors il est considéré comme *probablement premier*. Il suffit ensuite de vérifier par une méthode déterministe s'il est vraiment premier ou non."
   ]
  },
  {
   "cell_type": "code",
   "execution_count": null,
   "id": "0de326f7",
   "metadata": {},
   "outputs": [],
   "source": [
    "def fermat_test(n,k=10):\n",
    "    pass"
   ]
  },
  {
   "cell_type": "code",
   "execution_count": null,
   "id": "cad7fffe",
   "metadata": {},
   "outputs": [],
   "source": [
    "fermat_test(1051364518442342302270880192779903262713)"
   ]
  },
  {
   "cell_type": "code",
   "execution_count": null,
   "id": "25789ed1",
   "metadata": {},
   "outputs": [],
   "source": [
    "fermat_test(275478901)"
   ]
  },
  {
   "cell_type": "code",
   "execution_count": null,
   "id": "ce5481d9",
   "metadata": {},
   "outputs": [],
   "source": [
    "fermat_test(gie)"
   ]
  },
  {
   "cell_type": "code",
   "execution_count": null,
   "id": "41b91a08",
   "metadata": {},
   "outputs": [
    {
     "name": "stderr",
     "output_type": "stream",
     "text": [
      "help:\n",
      "\n",
      "Standard commands\n",
      "asn1parse         ca                ciphers           cmp               \n",
      "cms               crl               crl2pkcs7         dgst              \n",
      "dhparam           dsa               dsaparam          ec                \n",
      "ecparam           enc               engine            errstr            \n",
      "fipsinstall       gendsa            genpkey           genrsa            \n",
      "help              info              kdf               list              \n",
      "mac               nseq              ocsp              passwd            \n",
      "pkcs12            pkcs7             pkcs8             pkey              \n",
      "pkeyparam         pkeyutl           prime             rand              \n",
      "rehash            req               rsa               rsautl            \n",
      "s_client          s_server          s_time            sess_id           \n",
      "smime             speed             spkac             srp               \n",
      "storeutl          ts                verify            version           \n",
      "x509              \n",
      "\n",
      "Message Digest commands (see the `dgst' command for more details)\n",
      "blake2b512        blake2s256        md4               md5               \n",
      "rmd160            sha1              sha224            sha256            \n",
      "sha3-224          sha3-256          sha3-384          sha3-512          \n",
      "sha384            sha512            sha512-224        sha512-256        \n",
      "shake128          shake256          sm3               \n",
      "\n",
      "Cipher commands (see the `enc' command for more details)\n",
      "aes-128-cbc       aes-128-ecb       aes-192-cbc       aes-192-ecb       \n",
      "aes-256-cbc       aes-256-ecb       aria-128-cbc      aria-128-cfb      \n",
      "aria-128-cfb1     aria-128-cfb8     aria-128-ctr      aria-128-ecb      \n",
      "aria-128-ofb      aria-192-cbc      aria-192-cfb      aria-192-cfb1     \n",
      "aria-192-cfb8     aria-192-ctr      aria-192-ecb      aria-192-ofb      \n",
      "aria-256-cbc      aria-256-cfb      aria-256-cfb1     aria-256-cfb8     \n",
      "aria-256-ctr      aria-256-ecb      aria-256-ofb      base64            \n",
      "bf                bf-cbc            bf-cfb            bf-ecb            \n",
      "bf-ofb            camellia-128-cbc  camellia-128-ecb  camellia-192-cbc  \n",
      "camellia-192-ecb  camellia-256-cbc  camellia-256-ecb  cast              \n",
      "cast-cbc          cast5-cbc         cast5-cfb         cast5-ecb         \n",
      "cast5-ofb         des               des-cbc           des-cfb           \n",
      "des-ecb           des-ede           des-ede-cbc       des-ede-cfb       \n",
      "des-ede-ofb       des-ede3          des-ede3-cbc      des-ede3-cfb      \n",
      "des-ede3-ofb      des-ofb           des3              desx              \n",
      "rc2               rc2-40-cbc        rc2-64-cbc        rc2-cbc           \n",
      "rc2-cfb           rc2-ecb           rc2-ofb           rc4               \n",
      "rc4-40            seed              seed-cbc          seed-cfb          \n",
      "seed-ecb          seed-ofb          sm4-cbc           sm4-cfb           \n",
      "sm4-ctr           sm4-ecb           sm4-ofb           \n",
      "\n"
     ]
    }
   ],
   "source": [
    "%%bash\n",
    "openssl --help"
   ]
  },
  {
   "cell_type": "markdown",
   "id": "7a896de3",
   "metadata": {},
   "source": [
    "### A faire chez vous: Utilisation de Openssl\n",
    "\n",
    "Le logiciel [OpenSSL](https://www.openssl.org/) regroupe des implémentations de méthodes cryptographiques. \n",
    "\n",
    "Nous découvrirons cet outil en détails lors du prochain TP. Afin de gagner du temps, cherchez comment effectuer toutes ces tâches:\n",
    "\n",
    "* Création d’un mot de passe et son hashage\n",
    "* Création d’une clé rsa\n",
    "* Utilisation de la clé\n",
    "* Creer un certificat autosigné et le vérifier\n",
    "* Récupérer via les parametre de firefox le certificat d’amazone et le verifier:\n",
    "* Vérifiez le hachage de la clé publique pour vérifier qu’il correspond à un CSR ou à une clé privée\n",
    "* Créer un CSR pour une demande de signature de clé privée et de certificat"
   ]
  }
 ],
 "metadata": {
  "kernelspec": {
   "display_name": "Python 3 (ipykernel)",
   "language": "python",
   "name": "python3"
  },
  "language_info": {
   "codemirror_mode": {
    "name": "ipython",
    "version": 3
   },
   "file_extension": ".py",
   "mimetype": "text/x-python",
   "name": "python",
   "nbconvert_exporter": "python",
   "pygments_lexer": "ipython3",
   "version": "3.10.12"
  },
  "vscode": {
   "interpreter": {
    "hash": "aee8b7b246df8f9039afb4144a1f6fd8d2ca17a180786b69acc140d282b71a49"
   }
  }
 },
 "nbformat": 4,
 "nbformat_minor": 5
}
