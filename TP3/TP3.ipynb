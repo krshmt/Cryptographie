{
 "cells": [
  {
   "cell_type": "markdown",
   "metadata": {},
   "source": [
    "• Quel algorithme est utilisé ? Quel est la valeur de n ?\n",
    "\n",
    "L'algorithme utilisé est \"ecdsa-with-SHA384\". La valeur de n est de :\n",
    "```Shell\n",
    "30:65:02:30:2a:e3:8e:2e:39:b0:1a:0b:63:1b:a4:80:48:5e:\n",
    "        16:d9:ef:0a:b5:06:40:35:1b:18:5c:c5:c9:0c:6c:01:0a:2f:\n",
    "        5f:33:b4:32:4b:d7:6f:94:52:f0:ad:c0:e0:d6:0c:65:02:31:\n",
    "        00:e5:7c:09:8a:46:e9:93:fa:b2:41:ea:f3:79:4b:29:b9:92:\n",
    "        a1:aa:1d:4a:3e:e8:f6:b8:17:69:f2:f8:9c:b8:1c:6e:4c:95:\n",
    "        1d:d5:6f:9d:dc:b9:a2:90:e5:20:1b:38:a5\n",
    "```\n",
    "\n",
    "• Quelle information donne le champ Subject ? Qui a fabriqué ce certificat ?\n",
    "\n",
    "Dans le champ Subject, il se trouve le lieu (Continant, Pays, Company, lien) ou le certificat à été créer et par qui. Le certificat à été crée par Wikimedia Foundation, Inc.\n",
    "\n",
    "• Quelle est la date de validité du certificat ?\n",
    "\n",
    "```Shell\n",
    "Validity\n",
    "            Not Before: Oct 18 00:00:00 2023 GMT\n",
    "            Not After : Oct 16 23:59:59 2024 GMT\n",
    "```\n",
    "\n",
    "• Regardez comment fabriquer un certificat sur Let’s Encrypt.\n",
    "\n",
    "```Shell\n",
    "Subject: C = FR, ST = France, L = Orléans, O = \"IUT Orleans\", CN = *.letsencrypt.org\n",
    "```"
   ]
  },
  {
   "cell_type": "markdown",
   "metadata": {},
   "source": []
  }
 ],
 "metadata": {
  "language_info": {
   "name": "python"
  }
 },
 "nbformat": 4,
 "nbformat_minor": 2
}
